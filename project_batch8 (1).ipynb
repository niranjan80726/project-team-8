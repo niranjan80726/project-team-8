{
  "nbformat": 4,
  "nbformat_minor": 0,
  "metadata": {
    "colab": {
      "provenance": []
    },
    "kernelspec": {
      "name": "python3",
      "display_name": "Python 3"
    },
    "language_info": {
      "name": "python"
    }
  },
  "cells": [
    {
      "cell_type": "code",
      "source": [
        "import pandas as pd\n",
        "from sklearn.model_selection import train_test_split\n",
        "from sklearn.preprocessing import StandardScaler\n",
        "from sklearn.linear_model import LinearRegression\n",
        "from sklearn.metrics import mean_squared_error, r2_score\n",
        "import gradio as gr\n",
        "\n",
        "# Load and prepare the dataset\n",
        "file_path = ('TRAFFIC CODE.csv')\n",
        "df = pd.read_csv(file_path)\n",
        "\n",
        "# Drop unnecessary columns\n",
        "df_clean = df.drop(columns=['Variable', 'Description'])\n",
        "\n",
        "# Define target and features\n",
        "X = df_clean.drop(columns=['accidents'])\n",
        "y = df_clean['accidents']\n",
        "\n",
        "# Scale the features\n",
        "scaler = StandardScaler()\n",
        "X_scaled = scaler.fit_transform(X)\n",
        "\n",
        "# Split the data\n",
        "X_train, X_test, y_train, y_test = train_test_split(X_scaled, y, test_size=0.2, random_state=42)\n",
        "\n",
        "# Train the model\n",
        "model = LinearRegression()\n",
        "model.fit(X_train, y_train)\n",
        "\n",
        "# Define prediction function\n",
        "def predict_accidents(traffic_fine_amount, traffic_density, traffic_lights,\n",
        "                      pavement_quality, urban_area, average_speed,\n",
        "                      rain_intensity, vehicle_count, time_of_day):\n",
        "    input_data = pd.DataFrame([[\n",
        "        traffic_fine_amount, traffic_density, traffic_lights,\n",
        "        pavement_quality, urban_area, average_speed,\n",
        "        rain_intensity, vehicle_count, time_of_day\n",
        "    ]], columns=X.columns)\n",
        "\n",
        "    input_scaled = scaler.transform(input_data)\n",
        "    prediction = model.predict(input_scaled)\n",
        "    return round(prediction[0], 2)\n",
        "\n",
        "# Create Gradio interface\n",
        "interface = gr.Interface(\n",
        "    fn=predict_accidents,\n",
        "    inputs=[\n",
        "        gr.Number(label='Traffic Fine Amount'),\n",
        "        gr.Number(label='Traffic Density'),\n",
        "        gr.Number(label='Traffic Lights'),\n",
        "        gr.Number(label='Pavement Quality'),\n",
        "        gr.Number(label='Urban Area (1 for Urban, 0 for Rural)'),\n",
        "        gr.Number(label='Average Speed'),\n",
        "        gr.Number(label='Rain Intensity'),\n",
        "        gr.Number(label='Vehicle Count'),\n",
        "        gr.Number(label='Time of Day')\n",
        "    ],\n",
        "    outputs='number',\n",
        "    title='Traffic Accident Prediction',\n",
        "    description='Predict the number of traffic accidents based on various factors.'\n",
        ")\n",
        "\n",
        "interface.launch()"
      ],
      "metadata": {
        "colab": {
          "base_uri": "https://localhost:8080/",
          "height": 646
        },
        "id": "RRDa2HR7ex-X",
        "outputId": "45d3a28b-0d2b-43f0-adb1-d919c13b4dad"
      },
      "execution_count": 53,
      "outputs": [
        {
          "output_type": "stream",
          "name": "stdout",
          "text": [
            "It looks like you are running Gradio on a hosted a Jupyter notebook. For the Gradio app to work, sharing must be enabled. Automatically setting `share=True` (you can turn this off by setting `share=False` in `launch()` explicitly).\n",
            "\n",
            "Colab notebook detected. To show errors in colab notebook, set debug=True in launch()\n",
            "* Running on public URL: https://334eb723dcc30f57dd.gradio.live\n",
            "\n",
            "This share link expires in 1 week. For free permanent hosting and GPU upgrades, run `gradio deploy` from the terminal in the working directory to deploy to Hugging Face Spaces (https://huggingface.co/spaces)\n"
          ]
        },
        {
          "output_type": "display_data",
          "data": {
            "text/plain": [
              "<IPython.core.display.HTML object>"
            ],
            "text/html": [
              "<div><iframe src=\"https://334eb723dcc30f57dd.gradio.live\" width=\"100%\" height=\"500\" allow=\"autoplay; camera; microphone; clipboard-read; clipboard-write;\" frameborder=\"0\" allowfullscreen></iframe></div>"
            ]
          },
          "metadata": {}
        },
        {
          "output_type": "execute_result",
          "data": {
            "text/plain": []
          },
          "metadata": {},
          "execution_count": 53
        }
      ]
    }
  ]
}